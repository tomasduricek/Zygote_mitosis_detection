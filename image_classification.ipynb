{
 "cells": [
  {
   "cell_type": "code",
   "execution_count": 221,
   "id": "7881b6dd-7552-471e-9ebb-780229884bea",
   "metadata": {},
   "outputs": [],
   "source": [
    "import os\n",
    "import numpy as np\n",
    "import pandas as pd\n",
    "import keras\n",
    "import itertools\n",
    "import time \n",
    "from keras.models import Sequential\n",
    "from keras.layers import Dense, Activation, Dropout\n",
    "import tifffile as tiff\n",
    "import matplotlib\n",
    "import tensorflow as tf\n",
    "\n",
    "from IPython.display import display\n",
    "from tensorflow.keras.utils import array_to_img\n",
    "from tensorflow.keras.utils import save_img\n",
    "from keras.callbacks import TensorBoard\n",
    "from numpy import asarray\n",
    "\n",
    "from sklearn.metrics import confusion_matrix\n",
    "\n",
    "from time import strftime\n",
    "\n",
    "import matplotlib.pyplot as plt\n",
    "\n",
    "from scipy.ndimage import gaussian_filter\n",
    "from PIL import Image\n",
    "\n",
    "import cv2\n",
    "\n",
    "from numpy import genfromtxt\n",
    "from sklearn.ensemble import AdaBoostClassifier\n",
    "from sklearn.preprocessing import MinMaxScaler\n",
    "from sklearn.model_selection import train_test_split, GridSearchCV\n",
    "from sklearn.metrics import classification_report, accuracy_score, precision_score, f1_score, recall_score, confusion_matrix, plot_confusion_matrix\n",
    "from sklearn.linear_model import LogisticRegression\n",
    "\n",
    "import warnings\n",
    "warnings.filterwarnings('ignore')"
   ]
  },
  {
   "cell_type": "code",
   "execution_count": 387,
   "id": "91307186-fe94-49c1-824a-be52d03b1271",
   "metadata": {},
   "outputs": [],
   "source": [
    "directory = 'embryos/0' # File where are all embryo files\n",
    "interphase_images = []\n",
    "for filename in os.listdir(directory):\n",
    "    file = os.path.join(directory, filename)\n",
    "    image = cv2.imread(file, cv2.IMREAD_GRAYSCALE)\n",
    "    interphase_images.append(image)"
   ]
  },
  {
   "cell_type": "code",
   "execution_count": 388,
   "id": "c9373202-64d1-4ec6-ad77-a71822c816b4",
   "metadata": {},
   "outputs": [
    {
     "data": {
      "text/plain": [
       "array([4, 6, 7, ..., 5, 4, 0], dtype=uint8)"
      ]
     },
     "execution_count": 388,
     "metadata": {},
     "output_type": "execute_result"
    }
   ],
   "source": [
    "interphase_images[500].flatten()"
   ]
  },
  {
   "cell_type": "code",
   "execution_count": 389,
   "id": "9dd07c81-1538-421f-94e8-f83f3c0a68cc",
   "metadata": {},
   "outputs": [
    {
     "data": {
      "text/plain": [
       "515"
      ]
     },
     "execution_count": 389,
     "metadata": {},
     "output_type": "execute_result"
    }
   ],
   "source": [
    "len(interphase_images)"
   ]
  },
  {
   "cell_type": "code",
   "execution_count": 390,
   "id": "a405ca0f-7b8e-46bf-a56e-61b505d5dcdf",
   "metadata": {},
   "outputs": [],
   "source": [
    "flatten_list_interphase = []\n",
    "for img in range(200,300):\n",
    "    flatten_array = pd.Series(interphase_images[img].flatten())\n",
    "    flatten_list_interphase.append(flatten_array)"
   ]
  },
  {
   "cell_type": "code",
   "execution_count": 392,
   "id": "91ec3f84-f96a-4d2a-8271-eccd3a4de78f",
   "metadata": {},
   "outputs": [],
   "source": [
    "df_interphase = pd.DataFrame(flatten_list_interphase)"
   ]
  },
  {
   "cell_type": "code",
   "execution_count": 393,
   "id": "b6873735-8e8c-4bd2-857f-1dc03d4fd5ec",
   "metadata": {},
   "outputs": [],
   "source": [
    "df_interphase['target'] = 0"
   ]
  },
  {
   "cell_type": "code",
   "execution_count": 394,
   "id": "94a99957-4b41-4ec5-84ad-ceff877dece7",
   "metadata": {},
   "outputs": [],
   "source": [
    "directory = 'embryos/1' # File where are all embryo files\n",
    "mitotic_images = []\n",
    "for filename in os.listdir(directory):\n",
    "    file = os.path.join(directory, filename)\n",
    "    image = cv2.imread(file, cv2.IMREAD_GRAYSCALE)\n",
    "    mitotic_images.append(image)"
   ]
  },
  {
   "cell_type": "code",
   "execution_count": 395,
   "id": "8784282c-5cc8-4cca-9553-260adbfdc2ae",
   "metadata": {},
   "outputs": [],
   "source": [
    "flatten_list_mitotic = []\n",
    "for img in range(1, len(mitotic_images)):\n",
    "    flatten_array = pd.Series(images[img].flatten())\n",
    "    flatten_list_mitotic.append(flatten_array)"
   ]
  },
  {
   "cell_type": "code",
   "execution_count": 396,
   "id": "7a2ac1ca-368d-433c-8a34-3884466a20f4",
   "metadata": {},
   "outputs": [],
   "source": [
    "df_mitotic = pd.DataFrame(flatten_list)"
   ]
  },
  {
   "cell_type": "code",
   "execution_count": 397,
   "id": "fa34e38d-91ab-4add-9cce-2b36859e763d",
   "metadata": {},
   "outputs": [],
   "source": [
    "df_mitotic['target'] = 1"
   ]
  },
  {
   "cell_type": "code",
   "execution_count": 398,
   "id": "0e1ad085-734d-480e-b268-4121afdb3f14",
   "metadata": {},
   "outputs": [],
   "source": [
    "df = pd.concat([df_mitotic, df_interphase])"
   ]
  },
  {
   "cell_type": "code",
   "execution_count": 399,
   "id": "28dc7221-0d94-4394-8349-7863d039f953",
   "metadata": {},
   "outputs": [],
   "source": [
    "X = df.drop('target', axis=1)\n",
    "y = df['target']"
   ]
  },
  {
   "cell_type": "code",
   "execution_count": 400,
   "id": "49fd4ce2-dbc2-4299-9528-16f8d3786f3d",
   "metadata": {},
   "outputs": [],
   "source": [
    "### Split data \n",
    "X_train, X_test, y_train, y_test = train_test_split(X, y, test_size=0.33, shuffle=True)"
   ]
  },
  {
   "cell_type": "code",
   "execution_count": 401,
   "id": "2f39aab6-4091-4df7-b269-d6ac5a830601",
   "metadata": {},
   "outputs": [
    {
     "data": {
      "text/plain": [
       "(91, 65536)"
      ]
     },
     "execution_count": 401,
     "metadata": {},
     "output_type": "execute_result"
    }
   ],
   "source": [
    "X_train.shape"
   ]
  },
  {
   "cell_type": "code",
   "execution_count": 402,
   "id": "a96b15d9-65ab-465f-8284-b0456d5298cc",
   "metadata": {},
   "outputs": [
    {
     "data": {
      "text/plain": [
       "(46, 65536)"
      ]
     },
     "execution_count": 402,
     "metadata": {},
     "output_type": "execute_result"
    }
   ],
   "source": [
    "X_test.shape"
   ]
  },
  {
   "cell_type": "code",
   "execution_count": 403,
   "id": "3f59604f-ea17-4bb9-b64b-4a9a4d500976",
   "metadata": {},
   "outputs": [
    {
     "name": "stdout",
     "output_type": "stream",
     "text": [
      "Fitting 3 folds for each of 60 candidates, totalling 180 fits\n",
      "Precision: 0.8235294117647058 \n",
      "Accuracy: 0.9347826086956522 \n",
      "Recall: 1.0\n",
      "F1 Score: 0.9032258064516129\n"
     ]
    },
    {
     "data": {
      "text/plain": [
       "<sklearn.metrics._plot.confusion_matrix.ConfusionMatrixDisplay at 0x2374ba6bb80>"
      ]
     },
     "execution_count": 403,
     "metadata": {},
     "output_type": "execute_result"
    },
    {
     "data": {
      "image/png": "[encoded data removed]",
      "text/plain": [
       "<Figure size 432x288 with 2 Axes>"
      ]
     },
     "metadata": {
      "needs_background": "light"
     },
     "output_type": "display_data"
    }
   ],
   "source": [
    "lg = LogisticRegression()\n",
    "\n",
    "params_lg = {\n",
    "    'penalty': ['l1', 'l2', 'elasticnet', 'none'],\n",
    "    'solver': ['newton-cg', 'lbfgs', 'liblinear', 'sag', 'saga'],\n",
    "    'multi_class': ['auto', 'ovr', 'multinomial']\n",
    "}\n",
    "grid_lg = GridSearchCV(estimator = lg, param_grid=params_lg, cv=3, verbose=1)\n",
    "model_lg = grid_lg.fit(X_train, y_train)\n",
    "y_pred_lg = model_lg.predict(X_test)\n",
    "print(f'Precision: {precision_score(y_test, y_pred_lg)} \\nAccuracy: {accuracy_score(y_test, y_pred_lg)} \\nRecall: {recall_score(y_test, y_pred_lg)}\\nF1 Score: {f1_score(y_test, y_pred_lg)}')\n",
    "plot_confusion_matrix(model_lg, X_test, y_test)"
   ]
  },
  {
   "cell_type": "code",
   "execution_count": 343,
   "id": "e771f44d-b8d2-40f0-9ab6-6bdf356f565c",
   "metadata": {},
   "outputs": [
    {
     "data": {
      "text/plain": [
       "['model_logistic_regression.joblib']"
      ]
     },
     "execution_count": 343,
     "metadata": {},
     "output_type": "execute_result"
    }
   ],
   "source": [
    "# Save model\n",
    "from joblib import dump, load\n",
    "dump(model_lg, 'model_logistic_regression.joblib')"
   ]
  }
 ],
 "metadata": {
  "kernelspec": {
   "display_name": "Python 3 (ipykernel)",
   "language": "python",
   "name": "python3"
  },
  "language_info": {
   "codemirror_mode": {
    "name": "ipython",
    "version": 3
   },
   "file_extension": ".py",
   "mimetype": "text/x-python",
   "name": "python",
   "nbconvert_exporter": "python",
   "pygments_lexer": "ipython3",
   "version": "3.10.4"
  }
 },
 "nbformat": 4,
 "nbformat_minor": 5
}
